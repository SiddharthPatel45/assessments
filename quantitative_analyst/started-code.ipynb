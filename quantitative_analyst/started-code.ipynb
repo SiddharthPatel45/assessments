{
 "cells": [
  {
   "cell_type": "markdown",
   "id": "28bf264d",
   "metadata": {},
   "source": [
    "## Quant Analyst Interview"
   ]
  },
  {
   "cell_type": "markdown",
   "id": "0c4600d8",
   "metadata": {},
   "source": [
    "#### 1. Given “Employee” table below:\n",
    "\n",
    "| id | Name | Salary | manager_id |\n",
    "|----|------|--------|------------|\n",
    "| 1 | John  | 300    | 3 |\n",
    "| 2 | Mike  | 200    | 3 |\n",
    "| 3 | Sally | 550    | 4 |\n",
    "| 4 | Jane  | 500    | 7 |\n",
    "| 5 | Joe   | 600    | 7 |\n",
    "| 6 | Dan   | 600    | 3 |\n",
    "| 7 | Phil  | 550    | NULL |\n",
    "|...|  ...  |  ...   |...|\n",
    "\n",
    "  - Give the name of employees, whose salaries are greater than their immediate\n",
    "manager’s\n",
    "  - What is the average salary of employees who do not manage anyone? In the sample\n",
    "above, that would be John, Mike, Joe and Dan, since they do not have anyone\n",
    "reporting to them"
   ]
  },
  {
   "cell_type": "code",
   "execution_count": null,
   "id": "c6268497",
   "metadata": {},
   "outputs": [],
   "source": []
  },
  {
   "cell_type": "markdown",
   "id": "9615d0a9",
   "metadata": {},
   "source": [
    "#### 2. Write a function ‘exists’ which takes a variable symbol v and returns whether v is defined."
   ]
  },
  {
   "cell_type": "code",
   "execution_count": null,
   "id": "bde12272",
   "metadata": {},
   "outputs": [],
   "source": []
  },
  {
   "cell_type": "markdown",
   "id": "be748bb3",
   "metadata": {},
   "source": [
    "#### 3. Create a function to compute N layer of a Pascal Triangle. The first 4 later will looks like:\n",
    "1\n",
    "\n",
    "1 1\n",
    "\n",
    "1 2 1\n",
    "\n",
    "1 3 3 1"
   ]
  },
  {
   "cell_type": "code",
   "execution_count": null,
   "id": "a5ac2466",
   "metadata": {},
   "outputs": [],
   "source": []
  },
  {
   "cell_type": "markdown",
   "id": "6182f076",
   "metadata": {},
   "source": [
    "#### 4. Assume have the following portfolio as of 2016/01/01:\n",
    "|      |   |\n",
    "|------|---|\n",
    "|AAPL.O|15%|\n",
    "|IBM.N |20%|\n",
    "|GOOG.O|20%|\n",
    "|BP.N  |15%|\n",
    "|XOM.N |10%|\n",
    "|COST.O|15%|\n",
    "|GS.N  |5% |\n",
    "\n",
    "  - Using historical daily returns (Yahoo/Google Finance or any other market data\n",
    "source), calculate VaR95% and CVaR95% of the portfolio as of 2016/12/31\n",
    "  - Using expected mean, covariance matrix and parametric method, calculate VaR95%\n",
    "and CVaR95%\n",
    "  - Assume you can change weights, allow shorting but no leverage (i.e. sum of weights\n",
    "equal 100%), and rebalance monthly. What is the optimal portfolio holding by end of\n",
    "each month till end of 2016\n",
    "\n",
    "_Notes_: If you have other assumption(s) please state clearly"
   ]
  },
  {
   "cell_type": "code",
   "execution_count": null,
   "id": "77de0092",
   "metadata": {},
   "outputs": [],
   "source": []
  },
  {
   "cell_type": "markdown",
   "id": "8082ddb3",
   "metadata": {},
   "source": [
    "#### 5. Assume you have a Python project, which source code is under a git repo folder “my-python-project”. Write a program/script to produce the following statistics of this folder:\n",
    "\n",
    "  - How many python files\n",
    "  - How many lines of code in total, how many lines of comment line (empty line doesn’t\n",
    "count)\n",
    "  - How many functions is defined in total\n",
    "  - How many lines of changes from the current version against HEAD~3\n",
    "  - Total folder size (in MB) per each of the subfolder (down to 2 level depth)"
   ]
  },
  {
   "cell_type": "code",
   "execution_count": null,
   "id": "96d941a3",
   "metadata": {},
   "outputs": [],
   "source": []
  },
  {
   "cell_type": "markdown",
   "id": "697cad3e",
   "metadata": {},
   "source": [
    "#### 6. In a text file, give me total number of appearance of “date” within the text file. The date format can appears in either one (or multiple) formats shown below:\n",
    "\n",
    "  - YYYY/MM/DD\n",
    "  - MM/DD/YYYY\n",
    "  - DD/MM/YYYY\n",
    "  - DD (Jan/Feb/Mar/Apr/May/Jun/Jul/Aug/Sept/Oct/Nov/Dec) YYYY"
   ]
  },
  {
   "cell_type": "code",
   "execution_count": null,
   "id": "4b66f47e",
   "metadata": {},
   "outputs": [],
   "source": []
  }
 ],
 "metadata": {
  "kernelspec": {
   "display_name": "Python 3",
   "language": "python",
   "name": "python3"
  },
  "language_info": {
   "codemirror_mode": {
    "name": "ipython",
    "version": 3
   },
   "file_extension": ".py",
   "mimetype": "text/x-python",
   "name": "python",
   "nbconvert_exporter": "python",
   "pygments_lexer": "ipython3",
   "version": "3.6.9"
  }
 },
 "nbformat": 4,
 "nbformat_minor": 5
}
