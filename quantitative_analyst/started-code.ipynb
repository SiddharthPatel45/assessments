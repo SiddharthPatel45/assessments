{
 "cells": [
  {
   "cell_type": "markdown",
   "id": "28bf264d",
   "metadata": {},
   "source": [
    "## Quant Analyst Interview"
   ]
  },
  {
   "cell_type": "markdown",
   "id": "0c4600d8",
   "metadata": {},
   "source": [
    "#### 1. Given “Employee” table below:\n",
    "\n",
    "| id | Name | Salary | manager_id |\n",
    "|----|------|--------|------------|\n",
    "| 1 | John  | 300    | 3 |\n",
    "| 2 | Mike  | 200    | 3 |\n",
    "| 3 | Sally | 550    | 4 |\n",
    "| 4 | Jane  | 500    | 7 |\n",
    "| 5 | Joe   | 600    | 7 |\n",
    "| 6 | Dan   | 600    | 3 |\n",
    "| 7 | Phil  | 550    | NULL |\n",
    "|...|  ...  |  ...   |...|\n",
    "\n",
    "  - Give the name of employees, whose salaries are greater than their immediate\n",
    "manager’s\n",
    "  - What is the average salary of employees who do not manage anyone? In the sample\n",
    "above, that would be John, Mike, Joe and Dan, since they do not have anyone\n",
    "reporting to them"
   ]
  },
  {
   "cell_type": "markdown",
   "id": "4723a493",
   "metadata": {},
   "source": [
    "We can answer of these using SQL query"
   ]
  },
  {
   "cell_type": "markdown",
   "id": "b35a003e",
   "metadata": {},
   "source": [
    "> Give the name of employees, whose salaries are greater than their immediate manager’s\n",
    "\n",
    "```\n",
    "SELECT e2.name\n",
    "FROM employee e1\n",
    "JOIN employee e2\n",
    "ON e1.id = e2.manager_id\n",
    "WHERE e2.salary > e1.salary;\n",
    "```\n",
    "\n",
    "_Reasoning_: We do a self-join to get a list of entries on the condition which matches employee's id to their manager's id. Now the \"second\" table is the one that has list of employees, that's the table we are interested in. Then we compare whose salary from that table is higher than the employees in \"first\" table, which contains the details of their managers. For the table we get the result: `Dan | Sally | Joe`"
   ]
  },
  {
   "cell_type": "markdown",
   "id": "91527327",
   "metadata": {},
   "source": [
    "> What is the average salary of employees who do not manage anyone?\n",
    "\n",
    "```\n",
    "SELECT AVG(salary)\n",
    "FROM employee\n",
    "WHERE name NOT IN (\n",
    "\tSELECT e1.name\n",
    "\tFROM employee e1\n",
    "\tJOIN employee e2\n",
    "\tON e1.id = e2.manager_id)\n",
    "```\n",
    "\n",
    "_Reasoning_: We use a similar approach as before. Self join the table on id and manager_id, but this time to get a list of employees from \"first\" table i.e. people who are managers. Then we use it as a subquery to get the list of names that aren't anyone's manager. Once we have that, we can simply take an average of the salary, which in this case is `425.00`."
   ]
  },
  {
   "cell_type": "markdown",
   "id": "b3eea647",
   "metadata": {},
   "source": [
    "#### 2. Write a function ‘exists’ which takes a variable symbol v and returns whether v is defined."
   ]
  },
  {
   "cell_type": "markdown",
   "id": "617022a3",
   "metadata": {},
   "source": [
    "In python, it is quite straight-forward to check if a variable exists using an `if` statement. However, when we use a function to check if a variable exists or not, we need to specify if it is _local_ or _global_ variable. From the context of this question, we can assume that we are looking for a global variable. In that case, the `exists()` function can be defined as below. The function returns a boolean True/False as result.\n",
    "\n",
    "_Note_: Since we are checking for global variable we need to make sure we pass the name of the variable as argument because the function `globals()` returns a dictionary of all global varibales"
   ]
  },
  {
   "cell_type": "code",
   "execution_count": 2,
   "id": "57aa5bc7",
   "metadata": {},
   "outputs": [],
   "source": [
    "# function to check if a varible exists\n",
    "def exists(v):\n",
    "    # check if the variable exists in the globals\n",
    "    if v in globals():\n",
    "        # if it exists, return True\n",
    "        return True\n",
    "    else:\n",
    "        # else, return False\n",
    "        return False"
   ]
  },
  {
   "cell_type": "code",
   "execution_count": 12,
   "id": "54693e24",
   "metadata": {},
   "outputs": [
    {
     "data": {
      "text/plain": [
       "False"
      ]
     },
     "execution_count": 12,
     "metadata": {},
     "output_type": "execute_result"
    }
   ],
   "source": [
    "exists('v')"
   ]
  },
  {
   "cell_type": "code",
   "execution_count": 13,
   "id": "a5206991",
   "metadata": {},
   "outputs": [
    {
     "data": {
      "text/plain": [
       "True"
      ]
     },
     "execution_count": 13,
     "metadata": {},
     "output_type": "execute_result"
    }
   ],
   "source": [
    "v = 5\n",
    "exists('v')"
   ]
  },
  {
   "cell_type": "markdown",
   "id": "6cc68864",
   "metadata": {},
   "source": [
    "#### 3. Create a function to compute N layer of a Pascal Triangle. The first 4 later will looks like:\n",
    "1\n",
    "\n",
    "1 1\n",
    "\n",
    "1 2 1\n",
    "\n",
    "1 3 3 1"
   ]
  },
  {
   "cell_type": "markdown",
   "id": "7b903f1a",
   "metadata": {},
   "source": [
    "We will write a python function to create the Pascal Triangle, which takes `N` as input and returns the pascal triangle of `N` layers."
   ]
  },
  {
   "cell_type": "code",
   "execution_count": 9,
   "id": "d1b2775f",
   "metadata": {},
   "outputs": [],
   "source": [
    "# function to print pascal's triangle\n",
    "def print_pascal_tri(lst):\n",
    "    for row in lst:\n",
    "        print(row)"
   ]
  },
  {
   "cell_type": "code",
   "execution_count": 10,
   "id": "aac3337b",
   "metadata": {},
   "outputs": [],
   "source": [
    "# function to create pascal triangle of N layers\n",
    "def pascal_triangle(N):\n",
    "    # instantiate an empty list to store the layers\n",
    "    pascal_tri_list = []\n",
    "    \n",
    "    # run a for loop for N number of times\n",
    "    for i in range(N):\n",
    "        # list of numbers in each layer\n",
    "        layer = []\n",
    "        \n",
    "        if not pascal_tri_list: # if the full list is empty, append 1\n",
    "            layer.append(1)\n",
    "        else: # else insert the intermediate numbers\n",
    "            # get the length of the previous layer\n",
    "            prev_layer_len = len(pascal_tri_list[i-1])\n",
    "            \n",
    "            # run a second loop one more than previous layer's length\n",
    "            for j in range(prev_layer_len + 1):\n",
    "                # for the first two layers just add 1s\n",
    "                if j == 0 or j == 1:\n",
    "                    layer.append(1)\n",
    "                else:\n",
    "                    # insert the sum of top two numbers at previous index\n",
    "                    layer.insert(j-1, pascal_tri_list[i-1][j-2] + pascal_tri_list[i-1][j-1])\n",
    "                    \n",
    "        # append the layer to final list\n",
    "        pascal_tri_list.append(layer)\n",
    "    \n",
    "    # print the pascal's triangle\n",
    "    print_pascal_tri(pascal_tri_list)"
   ]
  },
  {
   "cell_type": "code",
   "execution_count": 11,
   "id": "1922b52e",
   "metadata": {},
   "outputs": [
    {
     "name": "stdout",
     "output_type": "stream",
     "text": [
      "[1]\n",
      "[1, 1]\n",
      "[1, 2, 1]\n",
      "[1, 3, 3, 1]\n",
      "[1, 4, 6, 4, 1]\n"
     ]
    }
   ],
   "source": [
    "pascal_triangle(5)"
   ]
  },
  {
   "cell_type": "markdown",
   "id": "91b1c460",
   "metadata": {},
   "source": [
    "_Reasoning_: The comments should be enough to follow along. Basically, we are running a for loop, and at every step checking the previous layer to update the current layer. At the end, in python, it is a list of lists and we print the results. This is a brute force of getting the result and am sure there's an efficient way to solve this by taking advantage of the fact that Pascal's Triangle is an arrangement of binomial coefficients. Using multiple for loops and lists is neither memory nor compute efficient."
   ]
  },
  {
   "cell_type": "markdown",
   "id": "c7aea4a2",
   "metadata": {},
   "source": [
    "#### 4. Assume have the following portfolio as of 2016/01/01:\n",
    "|      |   |\n",
    "|------|---|\n",
    "|AAPL.O|15%|\n",
    "|IBM.N |20%|\n",
    "|GOOG.O|20%|\n",
    "|BP.N  |15%|\n",
    "|XOM.N |10%|\n",
    "|COST.O|15%|\n",
    "|GS.N  |5% |\n",
    "\n",
    "  - Using historical daily returns (Yahoo/Google Finance or any other market data\n",
    "source), calculate VaR95% and CVaR95% of the portfolio as of 2016/12/31\n",
    "  - Using expected mean, covariance matrix and parametric method, calculate VaR95%\n",
    "and CVaR95%\n",
    "  - Assume you can change weights, allow shorting but no leverage (i.e. sum of weights\n",
    "equal 100%), and rebalance monthly. What is the optimal portfolio holding by end of\n",
    "each month till end of 2016\n",
    "\n",
    "_Notes_: If you have other assumption(s) please state clearly"
   ]
  },
  {
   "cell_type": "code",
   "execution_count": null,
   "id": "0cbec559",
   "metadata": {},
   "outputs": [],
   "source": []
  },
  {
   "cell_type": "markdown",
   "id": "72ea0de5",
   "metadata": {},
   "source": [
    "#### 5. Assume you have a Python project, which source code is under a git repo folder “my-python-project”. Write a program/script to produce the following statistics of this folder:\n",
    "\n",
    "  - How many python files\n",
    "  - How many lines of code in total, how many lines of comment line (empty line doesn’t\n",
    "count)\n",
    "  - How many functions is defined in total\n",
    "  - How many lines of changes from the current version against HEAD~3\n",
    "  - Total folder size (in MB) per each of the subfolder (down to 2 level depth)"
   ]
  },
  {
   "cell_type": "code",
   "execution_count": null,
   "id": "30d2748f",
   "metadata": {},
   "outputs": [],
   "source": []
  },
  {
   "cell_type": "markdown",
   "id": "bb2dab6a",
   "metadata": {},
   "source": [
    "#### 6. In a text file, give me total number of appearance of “date” within the text file. The date format can appears in either one (or multiple) formats shown below:\n",
    "\n",
    "  - YYYY/MM/DD\n",
    "  - MM/DD/YYYY\n",
    "  - DD/MM/YYYY\n",
    "  - DD (Jan/Feb/Mar/Apr/May/Jun/Jul/Aug/Sept/Oct/Nov/Dec) YYYY"
   ]
  },
  {
   "cell_type": "code",
   "execution_count": null,
   "id": "1b7e47e0",
   "metadata": {},
   "outputs": [],
   "source": []
  }
 ],
 "metadata": {
  "kernelspec": {
   "display_name": "Python 3",
   "language": "python",
   "name": "python3"
  },
  "language_info": {
   "codemirror_mode": {
    "name": "ipython",
    "version": 3
   },
   "file_extension": ".py",
   "mimetype": "text/x-python",
   "name": "python",
   "nbconvert_exporter": "python",
   "pygments_lexer": "ipython3",
   "version": "3.6.9"
  }
 },
 "nbformat": 4,
 "nbformat_minor": 5
}
